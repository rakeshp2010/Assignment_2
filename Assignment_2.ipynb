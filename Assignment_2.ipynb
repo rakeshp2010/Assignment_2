{
  "cells": [
    {
      "cell_type": "markdown",
      "metadata": {
        "id": "view-in-github",
        "colab_type": "text"
      },
      "source": [
        "<a href=\"https://colab.research.google.com/github/rakeshp2010/Assignment_2/blob/main/Assignment_2.ipynb\" target=\"_parent\"><img src=\"https://colab.research.google.com/assets/colab-badge.svg\" alt=\"Open In Colab\"/></a>"
      ]
    },
    {
      "cell_type": "markdown",
      "id": "f3e5d93c",
      "metadata": {
        "id": "f3e5d93c"
      },
      "source": [
        "1. Numpy:"
      ]
    },
    {
      "cell_type": "markdown",
      "id": "18605fa9",
      "metadata": {
        "id": "18605fa9"
      },
      "source": [
        "Using NumPy create random vector of size 15 having only Integers in the range 1-20.\n",
        "1. Reshape the array to 3 by 5\n",
        "2. Print array shape.\n",
        "3. Replace the max in each row by 0"
      ]
    },
    {
      "cell_type": "code",
      "execution_count": null,
      "id": "f16ebb8e",
      "metadata": {
        "scrolled": true,
        "colab": {
          "base_uri": "https://localhost:8080/"
        },
        "id": "f16ebb8e",
        "outputId": "c6c02763-54a4-4915-eed8-927ecc1fd5fd"
      },
      "outputs": [
        {
          "output_type": "stream",
          "name": "stdout",
          "text": [
            "Generated array:\n",
            "[14 10  5  6  5  6  1  1  9 10 18 11 16 18 11]\n"
          ]
        }
      ],
      "source": [
        "#Using numpy we created an array with 15 random elements\n",
        "\n",
        "import numpy as np\n",
        "x = np.random.randint(1,20,15)\n",
        "print(\"Generated array:\")\n",
        "print(x)"
      ]
    },
    {
      "cell_type": "code",
      "execution_count": null,
      "id": "17dcf573",
      "metadata": {
        "id": "17dcf573",
        "outputId": "afee14c1-b179-4ffe-bdc5-a0e2b7b2e239"
      },
      "outputs": [
        {
          "name": "stdout",
          "output_type": "stream",
          "text": [
            "Reshaped array: \n",
            " [[ 0 17 10  8  5]\n",
            " [13  1  1  0  6]\n",
            " [ 6  0  1  5 10]]\n",
            "Shape of the array  (3, 5)\n"
          ]
        }
      ],
      "source": [
        "#Reshape the array to 3 by 5\n",
        "#Print array shape.\n",
        "\n",
        "\n",
        "y=np.reshape(x, [3, 5])\n",
        "print(\"Reshaped array: \\n\",y)\n",
        "print(\"Shape of the array \",y.shape)"
      ]
    },
    {
      "cell_type": "code",
      "execution_count": null,
      "id": "2616c421",
      "metadata": {
        "id": "2616c421",
        "outputId": "9cc13e1d-9626-4044-af09-d79a23f45826"
      },
      "outputs": [
        {
          "name": "stdout",
          "output_type": "stream",
          "text": [
            "[[ 0 17 10  8  5]\n",
            " [13  1  1  0  6]\n",
            " [ 6  0  1  5 10]]\n"
          ]
        }
      ],
      "source": [
        "#Replace the max in each row by 0\n",
        "\n",
        "for i in y:\n",
        "    i[i == max(i)] = 0\n",
        "print(y)"
      ]
    },
    {
      "cell_type": "markdown",
      "id": "8f237f67",
      "metadata": {
        "id": "8f237f67"
      },
      "source": [
        "2. Pandas"
      ]
    },
    {
      "cell_type": "markdown",
      "id": "00e4538e",
      "metadata": {
        "id": "00e4538e"
      },
      "source": [
        "1. Read the provided CSV file ‘data.csv’.\n",
        "https://drive.google.com/drive/folders/1h8C3mLsso-R-sIOLsvoYwPLzy2fJ4IOF?usp=sharing\n",
        "2. Show the basic statistical description about the data.\n",
        "3. Check if the data has null values.\n",
        "a. Replace the null values with the mean\n",
        "4. Select at least two columns and aggregate the data using: min, max, count, mean.\n",
        "5. Filter the dataframe to select the rows with calories values between 500 and 1000.\n",
        "6. Filter the dataframe to select the rows with calories values > 500 and pulse < 100.\n",
        "7. Create a new “df_modified” dataframe that contains all the columns from df except for “Maxpulse”.\n",
        "8. Delete the “Maxpulse” column from the main df dataframe\n",
        "9. Convert the datatype of Calories column to int datatype.\n",
        "10. Using pandas create a scatter plot for the two columns (Duration and Calories).\n"
      ]
    },
    {
      "cell_type": "markdown",
      "id": "96301e85",
      "metadata": {
        "id": "96301e85"
      },
      "source": [
        "1"
      ]
    },
    {
      "cell_type": "code",
      "execution_count": null,
      "id": "caa28886",
      "metadata": {
        "id": "caa28886",
        "outputId": "2b122a97-8218-43ff-a5be-0c4b059b21cd"
      },
      "outputs": [
        {
          "data": {
            "text/html": [
              "<div>\n",
              "<style scoped>\n",
              "    .dataframe tbody tr th:only-of-type {\n",
              "        vertical-align: middle;\n",
              "    }\n",
              "\n",
              "    .dataframe tbody tr th {\n",
              "        vertical-align: top;\n",
              "    }\n",
              "\n",
              "    .dataframe thead th {\n",
              "        text-align: right;\n",
              "    }\n",
              "</style>\n",
              "<table border=\"1\" class=\"dataframe\">\n",
              "  <thead>\n",
              "    <tr style=\"text-align: right;\">\n",
              "      <th></th>\n",
              "      <th>Duration</th>\n",
              "      <th>Pulse</th>\n",
              "      <th>Maxpulse</th>\n",
              "      <th>Calories</th>\n",
              "    </tr>\n",
              "  </thead>\n",
              "  <tbody>\n",
              "    <tr>\n",
              "      <th>0</th>\n",
              "      <td>60</td>\n",
              "      <td>110</td>\n",
              "      <td>130</td>\n",
              "      <td>409.1</td>\n",
              "    </tr>\n",
              "    <tr>\n",
              "      <th>1</th>\n",
              "      <td>60</td>\n",
              "      <td>117</td>\n",
              "      <td>145</td>\n",
              "      <td>479.0</td>\n",
              "    </tr>\n",
              "    <tr>\n",
              "      <th>2</th>\n",
              "      <td>60</td>\n",
              "      <td>103</td>\n",
              "      <td>135</td>\n",
              "      <td>340.0</td>\n",
              "    </tr>\n",
              "    <tr>\n",
              "      <th>3</th>\n",
              "      <td>45</td>\n",
              "      <td>109</td>\n",
              "      <td>175</td>\n",
              "      <td>282.4</td>\n",
              "    </tr>\n",
              "    <tr>\n",
              "      <th>4</th>\n",
              "      <td>45</td>\n",
              "      <td>117</td>\n",
              "      <td>148</td>\n",
              "      <td>406.0</td>\n",
              "    </tr>\n",
              "  </tbody>\n",
              "</table>\n",
              "</div>"
            ],
            "text/plain": [
              "   Duration  Pulse  Maxpulse  Calories\n",
              "0        60    110       130     409.1\n",
              "1        60    117       145     479.0\n",
              "2        60    103       135     340.0\n",
              "3        45    109       175     282.4\n",
              "4        45    117       148     406.0"
            ]
          },
          "execution_count": 51,
          "metadata": {},
          "output_type": "execute_result"
        }
      ],
      "source": [
        "import pandas as pd\n",
        "\n",
        "data = pd.read_csv(\"data.csv\")\n",
        "data.head()"
      ]
    },
    {
      "cell_type": "markdown",
      "id": "a5e4f103",
      "metadata": {
        "id": "a5e4f103"
      },
      "source": [
        "2"
      ]
    },
    {
      "cell_type": "code",
      "execution_count": null,
      "id": "0c46f843",
      "metadata": {
        "scrolled": true,
        "id": "0c46f843",
        "outputId": "575c1091-6cec-4b48-fa26-0f199c32897c"
      },
      "outputs": [
        {
          "data": {
            "text/html": [
              "<div>\n",
              "<style scoped>\n",
              "    .dataframe tbody tr th:only-of-type {\n",
              "        vertical-align: middle;\n",
              "    }\n",
              "\n",
              "    .dataframe tbody tr th {\n",
              "        vertical-align: top;\n",
              "    }\n",
              "\n",
              "    .dataframe thead th {\n",
              "        text-align: right;\n",
              "    }\n",
              "</style>\n",
              "<table border=\"1\" class=\"dataframe\">\n",
              "  <thead>\n",
              "    <tr style=\"text-align: right;\">\n",
              "      <th></th>\n",
              "      <th>Duration</th>\n",
              "      <th>Pulse</th>\n",
              "      <th>Maxpulse</th>\n",
              "      <th>Calories</th>\n",
              "    </tr>\n",
              "  </thead>\n",
              "  <tbody>\n",
              "    <tr>\n",
              "      <th>count</th>\n",
              "      <td>169.000000</td>\n",
              "      <td>169.000000</td>\n",
              "      <td>169.000000</td>\n",
              "      <td>164.000000</td>\n",
              "    </tr>\n",
              "    <tr>\n",
              "      <th>mean</th>\n",
              "      <td>63.846154</td>\n",
              "      <td>107.461538</td>\n",
              "      <td>134.047337</td>\n",
              "      <td>375.790244</td>\n",
              "    </tr>\n",
              "    <tr>\n",
              "      <th>std</th>\n",
              "      <td>42.299949</td>\n",
              "      <td>14.510259</td>\n",
              "      <td>16.450434</td>\n",
              "      <td>266.379919</td>\n",
              "    </tr>\n",
              "    <tr>\n",
              "      <th>min</th>\n",
              "      <td>15.000000</td>\n",
              "      <td>80.000000</td>\n",
              "      <td>100.000000</td>\n",
              "      <td>50.300000</td>\n",
              "    </tr>\n",
              "    <tr>\n",
              "      <th>25%</th>\n",
              "      <td>45.000000</td>\n",
              "      <td>100.000000</td>\n",
              "      <td>124.000000</td>\n",
              "      <td>250.925000</td>\n",
              "    </tr>\n",
              "    <tr>\n",
              "      <th>50%</th>\n",
              "      <td>60.000000</td>\n",
              "      <td>105.000000</td>\n",
              "      <td>131.000000</td>\n",
              "      <td>318.600000</td>\n",
              "    </tr>\n",
              "    <tr>\n",
              "      <th>75%</th>\n",
              "      <td>60.000000</td>\n",
              "      <td>111.000000</td>\n",
              "      <td>141.000000</td>\n",
              "      <td>387.600000</td>\n",
              "    </tr>\n",
              "    <tr>\n",
              "      <th>max</th>\n",
              "      <td>300.000000</td>\n",
              "      <td>159.000000</td>\n",
              "      <td>184.000000</td>\n",
              "      <td>1860.400000</td>\n",
              "    </tr>\n",
              "  </tbody>\n",
              "</table>\n",
              "</div>"
            ],
            "text/plain": [
              "         Duration       Pulse    Maxpulse     Calories\n",
              "count  169.000000  169.000000  169.000000   164.000000\n",
              "mean    63.846154  107.461538  134.047337   375.790244\n",
              "std     42.299949   14.510259   16.450434   266.379919\n",
              "min     15.000000   80.000000  100.000000    50.300000\n",
              "25%     45.000000  100.000000  124.000000   250.925000\n",
              "50%     60.000000  105.000000  131.000000   318.600000\n",
              "75%     60.000000  111.000000  141.000000   387.600000\n",
              "max    300.000000  159.000000  184.000000  1860.400000"
            ]
          },
          "execution_count": 52,
          "metadata": {},
          "output_type": "execute_result"
        }
      ],
      "source": [
        "data.describe()"
      ]
    },
    {
      "cell_type": "markdown",
      "id": "6b9cec31",
      "metadata": {
        "id": "6b9cec31"
      },
      "source": [
        "3"
      ]
    },
    {
      "cell_type": "code",
      "execution_count": null,
      "id": "b6ff0559",
      "metadata": {
        "id": "b6ff0559",
        "outputId": "8b46d6ea-f3c2-411a-ff91-0844a3f8041e"
      },
      "outputs": [
        {
          "data": {
            "text/plain": [
              "Duration    False\n",
              "Pulse       False\n",
              "Maxpulse    False\n",
              "Calories     True\n",
              "dtype: bool"
            ]
          },
          "execution_count": 53,
          "metadata": {},
          "output_type": "execute_result"
        }
      ],
      "source": [
        "data.isnull().any()"
      ]
    },
    {
      "cell_type": "code",
      "execution_count": null,
      "id": "71da4222",
      "metadata": {
        "scrolled": false,
        "id": "71da4222",
        "outputId": "ee47cbaa-1ce1-454b-8f2c-f96a69a14906"
      },
      "outputs": [
        {
          "data": {
            "text/plain": [
              "Duration    False\n",
              "Pulse       False\n",
              "Maxpulse    False\n",
              "Calories    False\n",
              "dtype: bool"
            ]
          },
          "execution_count": 54,
          "metadata": {},
          "output_type": "execute_result"
        }
      ],
      "source": [
        "data.fillna(data.mean(), inplace=True)\n",
        "data.isnull().any()"
      ]
    },
    {
      "cell_type": "markdown",
      "id": "062dd34e",
      "metadata": {
        "id": "062dd34e"
      },
      "source": [
        "4"
      ]
    },
    {
      "cell_type": "code",
      "execution_count": null,
      "id": "b446fbd3",
      "metadata": {
        "scrolled": true,
        "id": "b446fbd3",
        "outputId": "c6a7680c-1a13-4b3d-b90e-6bc20cb0ec4c"
      },
      "outputs": [
        {
          "data": {
            "text/html": [
              "<div>\n",
              "<style scoped>\n",
              "    .dataframe tbody tr th:only-of-type {\n",
              "        vertical-align: middle;\n",
              "    }\n",
              "\n",
              "    .dataframe tbody tr th {\n",
              "        vertical-align: top;\n",
              "    }\n",
              "\n",
              "    .dataframe thead th {\n",
              "        text-align: right;\n",
              "    }\n",
              "</style>\n",
              "<table border=\"1\" class=\"dataframe\">\n",
              "  <thead>\n",
              "    <tr style=\"text-align: right;\">\n",
              "      <th></th>\n",
              "      <th>Maxpulse</th>\n",
              "      <th>Calories</th>\n",
              "    </tr>\n",
              "  </thead>\n",
              "  <tbody>\n",
              "    <tr>\n",
              "      <th>min</th>\n",
              "      <td>100.000000</td>\n",
              "      <td>50.300000</td>\n",
              "    </tr>\n",
              "    <tr>\n",
              "      <th>max</th>\n",
              "      <td>184.000000</td>\n",
              "      <td>1860.400000</td>\n",
              "    </tr>\n",
              "    <tr>\n",
              "      <th>count</th>\n",
              "      <td>169.000000</td>\n",
              "      <td>169.000000</td>\n",
              "    </tr>\n",
              "    <tr>\n",
              "      <th>mean</th>\n",
              "      <td>134.047337</td>\n",
              "      <td>375.790244</td>\n",
              "    </tr>\n",
              "  </tbody>\n",
              "</table>\n",
              "</div>"
            ],
            "text/plain": [
              "         Maxpulse     Calories\n",
              "min    100.000000    50.300000\n",
              "max    184.000000  1860.400000\n",
              "count  169.000000   169.000000\n",
              "mean   134.047337   375.790244"
            ]
          },
          "execution_count": 55,
          "metadata": {},
          "output_type": "execute_result"
        }
      ],
      "source": [
        "data.agg({'Maxpulse':['min','max','count','mean'],'Calories':['min','max','count','mean']})"
      ]
    },
    {
      "cell_type": "markdown",
      "id": "7972dddb",
      "metadata": {
        "id": "7972dddb"
      },
      "source": [
        "5"
      ]
    },
    {
      "cell_type": "code",
      "execution_count": null,
      "id": "2a7615d4",
      "metadata": {
        "scrolled": true,
        "id": "2a7615d4",
        "outputId": "f5a5670c-d6d3-4403-bbae-0efa25145310"
      },
      "outputs": [
        {
          "data": {
            "text/html": [
              "<div>\n",
              "<style scoped>\n",
              "    .dataframe tbody tr th:only-of-type {\n",
              "        vertical-align: middle;\n",
              "    }\n",
              "\n",
              "    .dataframe tbody tr th {\n",
              "        vertical-align: top;\n",
              "    }\n",
              "\n",
              "    .dataframe thead th {\n",
              "        text-align: right;\n",
              "    }\n",
              "</style>\n",
              "<table border=\"1\" class=\"dataframe\">\n",
              "  <thead>\n",
              "    <tr style=\"text-align: right;\">\n",
              "      <th></th>\n",
              "      <th>Duration</th>\n",
              "      <th>Pulse</th>\n",
              "      <th>Maxpulse</th>\n",
              "      <th>Calories</th>\n",
              "    </tr>\n",
              "  </thead>\n",
              "  <tbody>\n",
              "    <tr>\n",
              "      <th>51</th>\n",
              "      <td>80</td>\n",
              "      <td>123</td>\n",
              "      <td>146</td>\n",
              "      <td>643.1</td>\n",
              "    </tr>\n",
              "    <tr>\n",
              "      <th>62</th>\n",
              "      <td>160</td>\n",
              "      <td>109</td>\n",
              "      <td>135</td>\n",
              "      <td>853.0</td>\n",
              "    </tr>\n",
              "    <tr>\n",
              "      <th>65</th>\n",
              "      <td>180</td>\n",
              "      <td>90</td>\n",
              "      <td>130</td>\n",
              "      <td>800.4</td>\n",
              "    </tr>\n",
              "    <tr>\n",
              "      <th>66</th>\n",
              "      <td>150</td>\n",
              "      <td>105</td>\n",
              "      <td>135</td>\n",
              "      <td>873.4</td>\n",
              "    </tr>\n",
              "    <tr>\n",
              "      <th>67</th>\n",
              "      <td>150</td>\n",
              "      <td>107</td>\n",
              "      <td>130</td>\n",
              "      <td>816.0</td>\n",
              "    </tr>\n",
              "    <tr>\n",
              "      <th>72</th>\n",
              "      <td>90</td>\n",
              "      <td>100</td>\n",
              "      <td>127</td>\n",
              "      <td>700.0</td>\n",
              "    </tr>\n",
              "    <tr>\n",
              "      <th>73</th>\n",
              "      <td>150</td>\n",
              "      <td>97</td>\n",
              "      <td>127</td>\n",
              "      <td>953.2</td>\n",
              "    </tr>\n",
              "    <tr>\n",
              "      <th>75</th>\n",
              "      <td>90</td>\n",
              "      <td>98</td>\n",
              "      <td>125</td>\n",
              "      <td>563.2</td>\n",
              "    </tr>\n",
              "    <tr>\n",
              "      <th>78</th>\n",
              "      <td>120</td>\n",
              "      <td>100</td>\n",
              "      <td>130</td>\n",
              "      <td>500.4</td>\n",
              "    </tr>\n",
              "    <tr>\n",
              "      <th>90</th>\n",
              "      <td>180</td>\n",
              "      <td>101</td>\n",
              "      <td>127</td>\n",
              "      <td>600.1</td>\n",
              "    </tr>\n",
              "    <tr>\n",
              "      <th>99</th>\n",
              "      <td>90</td>\n",
              "      <td>93</td>\n",
              "      <td>124</td>\n",
              "      <td>604.1</td>\n",
              "    </tr>\n",
              "    <tr>\n",
              "      <th>103</th>\n",
              "      <td>90</td>\n",
              "      <td>90</td>\n",
              "      <td>100</td>\n",
              "      <td>500.4</td>\n",
              "    </tr>\n",
              "    <tr>\n",
              "      <th>106</th>\n",
              "      <td>180</td>\n",
              "      <td>90</td>\n",
              "      <td>120</td>\n",
              "      <td>800.3</td>\n",
              "    </tr>\n",
              "    <tr>\n",
              "      <th>108</th>\n",
              "      <td>90</td>\n",
              "      <td>90</td>\n",
              "      <td>120</td>\n",
              "      <td>500.3</td>\n",
              "    </tr>\n",
              "  </tbody>\n",
              "</table>\n",
              "</div>"
            ],
            "text/plain": [
              "     Duration  Pulse  Maxpulse  Calories\n",
              "51         80    123       146     643.1\n",
              "62        160    109       135     853.0\n",
              "65        180     90       130     800.4\n",
              "66        150    105       135     873.4\n",
              "67        150    107       130     816.0\n",
              "72         90    100       127     700.0\n",
              "73        150     97       127     953.2\n",
              "75         90     98       125     563.2\n",
              "78        120    100       130     500.4\n",
              "90        180    101       127     600.1\n",
              "99         90     93       124     604.1\n",
              "103        90     90       100     500.4\n",
              "106       180     90       120     800.3\n",
              "108        90     90       120     500.3"
            ]
          },
          "execution_count": 39,
          "metadata": {},
          "output_type": "execute_result"
        }
      ],
      "source": [
        "data.loc[(data['Calories']>500)&(data['Calories']<1000)]"
      ]
    },
    {
      "cell_type": "markdown",
      "id": "43ef5d65",
      "metadata": {
        "id": "43ef5d65"
      },
      "source": [
        "6"
      ]
    },
    {
      "cell_type": "code",
      "execution_count": null,
      "id": "887aacde",
      "metadata": {
        "scrolled": true,
        "id": "887aacde",
        "outputId": "8a273461-c174-4d0e-fd1c-e632bfe1654d"
      },
      "outputs": [
        {
          "data": {
            "text/html": [
              "<div>\n",
              "<style scoped>\n",
              "    .dataframe tbody tr th:only-of-type {\n",
              "        vertical-align: middle;\n",
              "    }\n",
              "\n",
              "    .dataframe tbody tr th {\n",
              "        vertical-align: top;\n",
              "    }\n",
              "\n",
              "    .dataframe thead th {\n",
              "        text-align: right;\n",
              "    }\n",
              "</style>\n",
              "<table border=\"1\" class=\"dataframe\">\n",
              "  <thead>\n",
              "    <tr style=\"text-align: right;\">\n",
              "      <th></th>\n",
              "      <th>Duration</th>\n",
              "      <th>Pulse</th>\n",
              "      <th>Maxpulse</th>\n",
              "      <th>Calories</th>\n",
              "    </tr>\n",
              "  </thead>\n",
              "  <tbody>\n",
              "    <tr>\n",
              "      <th>65</th>\n",
              "      <td>180</td>\n",
              "      <td>90</td>\n",
              "      <td>130</td>\n",
              "      <td>800.4</td>\n",
              "    </tr>\n",
              "    <tr>\n",
              "      <th>70</th>\n",
              "      <td>150</td>\n",
              "      <td>97</td>\n",
              "      <td>129</td>\n",
              "      <td>1115.0</td>\n",
              "    </tr>\n",
              "    <tr>\n",
              "      <th>73</th>\n",
              "      <td>150</td>\n",
              "      <td>97</td>\n",
              "      <td>127</td>\n",
              "      <td>953.2</td>\n",
              "    </tr>\n",
              "    <tr>\n",
              "      <th>75</th>\n",
              "      <td>90</td>\n",
              "      <td>98</td>\n",
              "      <td>125</td>\n",
              "      <td>563.2</td>\n",
              "    </tr>\n",
              "    <tr>\n",
              "      <th>99</th>\n",
              "      <td>90</td>\n",
              "      <td>93</td>\n",
              "      <td>124</td>\n",
              "      <td>604.1</td>\n",
              "    </tr>\n",
              "    <tr>\n",
              "      <th>103</th>\n",
              "      <td>90</td>\n",
              "      <td>90</td>\n",
              "      <td>100</td>\n",
              "      <td>500.4</td>\n",
              "    </tr>\n",
              "    <tr>\n",
              "      <th>106</th>\n",
              "      <td>180</td>\n",
              "      <td>90</td>\n",
              "      <td>120</td>\n",
              "      <td>800.3</td>\n",
              "    </tr>\n",
              "    <tr>\n",
              "      <th>108</th>\n",
              "      <td>90</td>\n",
              "      <td>90</td>\n",
              "      <td>120</td>\n",
              "      <td>500.3</td>\n",
              "    </tr>\n",
              "  </tbody>\n",
              "</table>\n",
              "</div>"
            ],
            "text/plain": [
              "     Duration  Pulse  Maxpulse  Calories\n",
              "65        180     90       130     800.4\n",
              "70        150     97       129    1115.0\n",
              "73        150     97       127     953.2\n",
              "75         90     98       125     563.2\n",
              "99         90     93       124     604.1\n",
              "103        90     90       100     500.4\n",
              "106       180     90       120     800.3\n",
              "108        90     90       120     500.3"
            ]
          },
          "execution_count": 40,
          "metadata": {},
          "output_type": "execute_result"
        }
      ],
      "source": [
        "data.loc[(data['Calories']>500)&(data['Pulse']<100)]"
      ]
    },
    {
      "cell_type": "markdown",
      "id": "8d2670e0",
      "metadata": {
        "id": "8d2670e0"
      },
      "source": [
        "7"
      ]
    },
    {
      "cell_type": "code",
      "execution_count": null,
      "id": "a763cd1c",
      "metadata": {
        "scrolled": true,
        "id": "a763cd1c",
        "outputId": "a3a37267-c5ca-4bdc-9430-954c85538761"
      },
      "outputs": [
        {
          "data": {
            "text/html": [
              "<div>\n",
              "<style scoped>\n",
              "    .dataframe tbody tr th:only-of-type {\n",
              "        vertical-align: middle;\n",
              "    }\n",
              "\n",
              "    .dataframe tbody tr th {\n",
              "        vertical-align: top;\n",
              "    }\n",
              "\n",
              "    .dataframe thead th {\n",
              "        text-align: right;\n",
              "    }\n",
              "</style>\n",
              "<table border=\"1\" class=\"dataframe\">\n",
              "  <thead>\n",
              "    <tr style=\"text-align: right;\">\n",
              "      <th></th>\n",
              "      <th>Duration</th>\n",
              "      <th>Pulse</th>\n",
              "      <th>Calories</th>\n",
              "    </tr>\n",
              "  </thead>\n",
              "  <tbody>\n",
              "    <tr>\n",
              "      <th>0</th>\n",
              "      <td>60</td>\n",
              "      <td>110</td>\n",
              "      <td>409.1</td>\n",
              "    </tr>\n",
              "    <tr>\n",
              "      <th>1</th>\n",
              "      <td>60</td>\n",
              "      <td>117</td>\n",
              "      <td>479.0</td>\n",
              "    </tr>\n",
              "    <tr>\n",
              "      <th>2</th>\n",
              "      <td>60</td>\n",
              "      <td>103</td>\n",
              "      <td>340.0</td>\n",
              "    </tr>\n",
              "    <tr>\n",
              "      <th>3</th>\n",
              "      <td>45</td>\n",
              "      <td>109</td>\n",
              "      <td>282.4</td>\n",
              "    </tr>\n",
              "    <tr>\n",
              "      <th>4</th>\n",
              "      <td>45</td>\n",
              "      <td>117</td>\n",
              "      <td>406.0</td>\n",
              "    </tr>\n",
              "  </tbody>\n",
              "</table>\n",
              "</div>"
            ],
            "text/plain": [
              "   Duration  Pulse  Calories\n",
              "0        60    110     409.1\n",
              "1        60    117     479.0\n",
              "2        60    103     340.0\n",
              "3        45    109     282.4\n",
              "4        45    117     406.0"
            ]
          },
          "execution_count": 41,
          "metadata": {},
          "output_type": "execute_result"
        }
      ],
      "source": [
        "df_modified = data[['Duration','Pulse','Calories']]\n",
        "df_modified.head()"
      ]
    },
    {
      "cell_type": "markdown",
      "id": "b3f243f4",
      "metadata": {
        "id": "b3f243f4"
      },
      "source": [
        "8"
      ]
    },
    {
      "cell_type": "code",
      "execution_count": null,
      "id": "6a95fc4e",
      "metadata": {
        "id": "6a95fc4e"
      },
      "outputs": [],
      "source": [
        "del data['Maxpulse']"
      ]
    },
    {
      "cell_type": "code",
      "execution_count": null,
      "id": "c7c2aa78",
      "metadata": {
        "id": "c7c2aa78",
        "outputId": "65fb7aa8-cca4-4a72-cf43-b1edbe1ee4da"
      },
      "outputs": [
        {
          "data": {
            "text/html": [
              "<div>\n",
              "<style scoped>\n",
              "    .dataframe tbody tr th:only-of-type {\n",
              "        vertical-align: middle;\n",
              "    }\n",
              "\n",
              "    .dataframe tbody tr th {\n",
              "        vertical-align: top;\n",
              "    }\n",
              "\n",
              "    .dataframe thead th {\n",
              "        text-align: right;\n",
              "    }\n",
              "</style>\n",
              "<table border=\"1\" class=\"dataframe\">\n",
              "  <thead>\n",
              "    <tr style=\"text-align: right;\">\n",
              "      <th></th>\n",
              "      <th>Duration</th>\n",
              "      <th>Pulse</th>\n",
              "      <th>Calories</th>\n",
              "    </tr>\n",
              "  </thead>\n",
              "  <tbody>\n",
              "    <tr>\n",
              "      <th>0</th>\n",
              "      <td>60</td>\n",
              "      <td>110</td>\n",
              "      <td>409.1</td>\n",
              "    </tr>\n",
              "    <tr>\n",
              "      <th>1</th>\n",
              "      <td>60</td>\n",
              "      <td>117</td>\n",
              "      <td>479.0</td>\n",
              "    </tr>\n",
              "    <tr>\n",
              "      <th>2</th>\n",
              "      <td>60</td>\n",
              "      <td>103</td>\n",
              "      <td>340.0</td>\n",
              "    </tr>\n",
              "    <tr>\n",
              "      <th>3</th>\n",
              "      <td>45</td>\n",
              "      <td>109</td>\n",
              "      <td>282.4</td>\n",
              "    </tr>\n",
              "    <tr>\n",
              "      <th>4</th>\n",
              "      <td>45</td>\n",
              "      <td>117</td>\n",
              "      <td>406.0</td>\n",
              "    </tr>\n",
              "  </tbody>\n",
              "</table>\n",
              "</div>"
            ],
            "text/plain": [
              "   Duration  Pulse  Calories\n",
              "0        60    110     409.1\n",
              "1        60    117     479.0\n",
              "2        60    103     340.0\n",
              "3        45    109     282.4\n",
              "4        45    117     406.0"
            ]
          },
          "execution_count": 43,
          "metadata": {},
          "output_type": "execute_result"
        }
      ],
      "source": [
        "data.head()"
      ]
    },
    {
      "cell_type": "markdown",
      "id": "3aedc5d4",
      "metadata": {
        "id": "3aedc5d4"
      },
      "source": [
        "9"
      ]
    },
    {
      "cell_type": "code",
      "execution_count": null,
      "id": "f3d07928",
      "metadata": {
        "id": "f3d07928",
        "outputId": "e2bee5ab-7934-423c-cad0-c68f832dc1c4"
      },
      "outputs": [
        {
          "data": {
            "text/plain": [
              "Duration      int64\n",
              "Pulse         int64\n",
              "Calories    float64\n",
              "dtype: object"
            ]
          },
          "execution_count": 44,
          "metadata": {},
          "output_type": "execute_result"
        }
      ],
      "source": [
        "data.dtypes"
      ]
    },
    {
      "cell_type": "code",
      "execution_count": null,
      "id": "2930a606",
      "metadata": {
        "id": "2930a606",
        "outputId": "125b89af-b40b-46c3-8612-5f00326245bb"
      },
      "outputs": [
        {
          "data": {
            "text/plain": [
              "Duration    int64\n",
              "Pulse       int64\n",
              "Calories    int64\n",
              "dtype: object"
            ]
          },
          "execution_count": 45,
          "metadata": {},
          "output_type": "execute_result"
        }
      ],
      "source": [
        "data['Calories'] = data['Calories'].astype(np.int64)\n",
        "data.dtypes"
      ]
    },
    {
      "cell_type": "markdown",
      "id": "0df8e861",
      "metadata": {
        "id": "0df8e861"
      },
      "source": [
        "10"
      ]
    },
    {
      "cell_type": "code",
      "execution_count": null,
      "id": "269f4b12",
      "metadata": {
        "id": "269f4b12",
        "outputId": "b7655dd9-cb2f-4537-9809-cf6646e48d8b"
      },
      "outputs": [
        {
          "data": {
            "text/plain": [
              "<AxesSubplot:xlabel='Duration', ylabel='Calories'>"
            ]
          },
          "execution_count": 46,
          "metadata": {},
          "output_type": "execute_result"
        },
        {
          "data": {
            "image/png": "[encoded data removed]",
            "text/plain": [
              "<Figure size 432x288 with 1 Axes>"
            ]
          },
          "metadata": {
            "needs_background": "light"
          },
          "output_type": "display_data"
        }
      ],
      "source": [
        "data.plot.scatter(x='Duration',y='Calories',c='DarkBlue')"
      ]
    },
    {
      "cell_type": "markdown",
      "id": "a3ccf3e8",
      "metadata": {
        "id": "a3ccf3e8"
      },
      "source": [
        "3. Matplotlib"
      ]
    },
    {
      "cell_type": "markdown",
      "id": "484d50b1",
      "metadata": {
        "id": "484d50b1"
      },
      "source": [
        "1. Write a Python programming to create a below chart of the popularity of programming Languages.\n",
        "2. Sample data:\n",
        "Programming languages: Java, Python, PHP, JavaScript, C#, C++\n",
        "Popularity: 22.2, 17.6, 8.8, 8, 7.7, 6.7"
      ]
    },
    {
      "cell_type": "code",
      "execution_count": null,
      "id": "b638f95d",
      "metadata": {
        "colab": {
          "base_uri": "https://localhost:8080/",
          "height": 252
        },
        "id": "b638f95d",
        "outputId": "28f27241-6909-4c68-c14a-3ba49a47bd4f"
      },
      "outputs": [
        {
          "output_type": "display_data",
          "data": {
            "text/plain": [
              "<Figure size 432x288 with 1 Axes>"
            ],
            "image/png": "[encoded data removed]"
          },
          "metadata": {}
        }
      ],
      "source": [
        "import matplotlib.pyplot as plt\n",
        "# Data to plot\n",
        "languages = 'Java', 'Python', 'PHP', 'JavaScript', 'C#', 'C++'\n",
        "popuratity = [22.2, 17.6, 8.8, 8, 7.7, 6.7]\n",
        "colors = [\"#1f77b4\", \"#ff7f0e\", \"#2ca02c\", \"#d62728\", \"#9467bd\", \"#8c564b\"]\n",
        "# explode 1st slice\n",
        "explode = (0.1, 0, 0, 0,0,0)  \n",
        "# Plot\n",
        "plt.pie(popuratity, explode=explode, labels=languages, colors=colors,\n",
        "autopct='%1.1f%%', shadow=True, startangle=140)\n",
        "\n",
        "plt.axis('equal')\n",
        "plt.show()"
      ]
    }
  ],
  "metadata": {
    "kernelspec": {
      "display_name": "Python 3",
      "language": "python",
      "name": "python3"
    },
    "language_info": {
      "codemirror_mode": {
        "name": "ipython",
        "version": 3
      },
      "file_extension": ".py",
      "mimetype": "text/x-python",
      "name": "python",
      "nbconvert_exporter": "python",
      "pygments_lexer": "ipython3",
      "version": "3.6.8"
    },
    "colab": {
      "provenance": [],
      "include_colab_link": true
    }
  },
  "nbformat": 4,
  "nbformat_minor": 5
}